{
  "nbformat": 4,
  "nbformat_minor": 0,
  "metadata": {
    "colab": {
      "provenance": [],
      "gpuType": "T4",
      "authorship_tag": "ABX9TyNilqr3YS0Zo0Dq2rPUqv6c",
      "include_colab_link": true
    },
    "kernelspec": {
      "name": "python3",
      "display_name": "Python 3"
    },
    "language_info": {
      "name": "python"
    },
    "accelerator": "GPU"
  },
  "cells": [
    {
      "cell_type": "markdown",
      "metadata": {
        "id": "view-in-github",
        "colab_type": "text"
      },
      "source": [
        "<a href=\"https://colab.research.google.com/github/Geniyk/GenAi/blob/main/All_Google__Gemini__Models_Variants.ipynb\" target=\"_parent\"><img src=\"https://colab.research.google.com/assets/colab-badge.svg\" alt=\"Open In Colab\"/></a>"
      ]
    },
    {
      "cell_type": "code",
      "execution_count": null,
      "metadata": {
        "id": "9zd4AO12oLYd"
      },
      "outputs": [],
      "source": []
    },
    {
      "cell_type": "code",
      "source": [
        "!pip install -q -U google-generativeai"
      ],
      "metadata": {
        "id": "MKO-0uDooMBv"
      },
      "execution_count": null,
      "outputs": []
    },
    {
      "cell_type": "code",
      "source": [
        "import pathlib\n",
        "import textwrap\n",
        "\n",
        "import google.generativeai as genai\n",
        "\n",
        "from IPython.display import display\n",
        "from IPython.display import Markdown\n",
        "\n",
        "def to_markdown(text):\n",
        "  text=text.replace('.', ' *')\n",
        "  return Markdown(textwrap.indent(text, '>',  predicate=lambda _: True))"
      ],
      "metadata": {
        "id": "dvQ-NAT3oMEo"
      },
      "execution_count": null,
      "outputs": []
    },
    {
      "cell_type": "code",
      "source": [
        "## Used to securely store your API Key\n",
        "from google.colab import userdata"
      ],
      "metadata": {
        "id": "V7em_oFCoMHE"
      },
      "execution_count": null,
      "outputs": []
    },
    {
      "cell_type": "code",
      "source": [
        "## Or use 'os.getenv('Google_API_KEY')' to fetch an environment variable.\n",
        "\n",
        "GOOGLE_API_KEY= userdata.get('GOOGLE_API_KEY')\n",
        "\n",
        "genai.configure(api_key=GOOGLE_API_KEY)"
      ],
      "metadata": {
        "id": "0tJEZAFzoMJ5"
      },
      "execution_count": null,
      "outputs": []
    },
    {
      "cell_type": "markdown",
      "source": [
        "LIST MODELS"
      ],
      "metadata": {
        "id": "cqvQLz7rrRMm"
      }
    },
    {
      "cell_type": "code",
      "source": [
        "for m in genai.list_models():\n",
        "  if 'generateContent' in m.supported_generation_methods:\n",
        "    print(m.name)"
      ],
      "metadata": {
        "colab": {
          "base_uri": "https://localhost:8080/",
          "height": 572
        },
        "id": "9L4pdy50oMMq",
        "outputId": "1a606fa2-b8d7-424f-9359-57f7354f5d9b"
      },
      "execution_count": null,
      "outputs": [
        {
          "output_type": "stream",
          "name": "stdout",
          "text": [
            "models/gemini-1.0-pro-vision-latest\n",
            "models/gemini-pro-vision\n",
            "models/gemini-1.5-pro-latest\n",
            "models/gemini-1.5-pro-001\n",
            "models/gemini-1.5-pro-002\n",
            "models/gemini-1.5-pro\n",
            "models/gemini-1.5-flash-latest\n",
            "models/gemini-1.5-flash-001\n",
            "models/gemini-1.5-flash-001-tuning\n",
            "models/gemini-1.5-flash\n",
            "models/gemini-1.5-flash-002\n",
            "models/gemini-1.5-flash-8b\n",
            "models/gemini-1.5-flash-8b-001\n",
            "models/gemini-1.5-flash-8b-latest\n",
            "models/gemini-1.5-flash-8b-exp-0827\n",
            "models/gemini-1.5-flash-8b-exp-0924\n",
            "models/gemini-2.0-flash-exp\n",
            "models/gemini-2.0-flash\n",
            "models/gemini-2.0-flash-001\n",
            "models/gemini-2.0-flash-exp-image-generation\n",
            "models/gemini-2.0-flash-lite-001\n",
            "models/gemini-2.0-flash-lite\n",
            "models/gemini-2.0-flash-lite-preview-02-05\n",
            "models/gemini-2.0-flash-lite-preview\n",
            "models/gemini-2.0-pro-exp\n",
            "models/gemini-2.0-pro-exp-02-05\n",
            "models/gemini-exp-1206\n",
            "models/gemini-2.0-flash-thinking-exp-01-21\n",
            "models/gemini-2.0-flash-thinking-exp\n",
            "models/gemini-2.0-flash-thinking-exp-1219\n",
            "models/learnlm-1.5-pro-experimental\n",
            "models/gemma-3-27b-it\n"
          ]
        }
      ]
    },
    {
      "cell_type": "code",
      "source": [
        "model= genai.GenerativeModel('gemini-1.5-flash-latest')"
      ],
      "metadata": {
        "id": "nhoWbFcpoMPP"
      },
      "execution_count": null,
      "outputs": []
    },
    {
      "cell_type": "code",
      "source": [
        "model"
      ],
      "metadata": {
        "colab": {
          "base_uri": "https://localhost:8080/"
        },
        "id": "yyUZ4cXNtLM1",
        "outputId": "796d5a60-b927-429b-e92f-0003b868f8a8"
      },
      "execution_count": null,
      "outputs": [
        {
          "output_type": "execute_result",
          "data": {
            "text/plain": [
              "genai.GenerativeModel(\n",
              "    model_name='models/gemini-1.5-pro',\n",
              "    generation_config={},\n",
              "    safety_settings={},\n",
              "    tools=None,\n",
              "    system_instruction=None,\n",
              "    cached_content=None\n",
              ")"
            ]
          },
          "metadata": {},
          "execution_count": 14
        }
      ]
    },
    {
      "cell_type": "code",
      "source": [
        "pip install --upgrade google-generativeai\n"
      ],
      "metadata": {
        "colab": {
          "base_uri": "https://localhost:8080/"
        },
        "id": "qKgUQMlUul1w",
        "outputId": "71686cf7-cad0-4471-a4c6-2bdd2423944c"
      },
      "execution_count": null,
      "outputs": [
        {
          "output_type": "stream",
          "name": "stdout",
          "text": [
            "Requirement already satisfied: google-generativeai in /usr/local/lib/python3.11/dist-packages (0.8.4)\n",
            "Requirement already satisfied: google-ai-generativelanguage==0.6.15 in /usr/local/lib/python3.11/dist-packages (from google-generativeai) (0.6.15)\n",
            "Requirement already satisfied: google-api-core in /usr/local/lib/python3.11/dist-packages (from google-generativeai) (2.24.2)\n",
            "Requirement already satisfied: google-api-python-client in /usr/local/lib/python3.11/dist-packages (from google-generativeai) (2.160.0)\n",
            "Requirement already satisfied: google-auth>=2.15.0 in /usr/local/lib/python3.11/dist-packages (from google-generativeai) (2.38.0)\n",
            "Requirement already satisfied: protobuf in /usr/local/lib/python3.11/dist-packages (from google-generativeai) (4.25.6)\n",
            "Requirement already satisfied: pydantic in /usr/local/lib/python3.11/dist-packages (from google-generativeai) (2.10.6)\n",
            "Requirement already satisfied: tqdm in /usr/local/lib/python3.11/dist-packages (from google-generativeai) (4.67.1)\n",
            "Requirement already satisfied: typing-extensions in /usr/local/lib/python3.11/dist-packages (from google-generativeai) (4.12.2)\n",
            "Requirement already satisfied: proto-plus<2.0.0dev,>=1.22.3 in /usr/local/lib/python3.11/dist-packages (from google-ai-generativelanguage==0.6.15->google-generativeai) (1.26.1)\n",
            "Requirement already satisfied: googleapis-common-protos<2.0.0,>=1.56.2 in /usr/local/lib/python3.11/dist-packages (from google-api-core->google-generativeai) (1.69.1)\n",
            "Requirement already satisfied: requests<3.0.0,>=2.18.0 in /usr/local/lib/python3.11/dist-packages (from google-api-core->google-generativeai) (2.32.3)\n",
            "Requirement already satisfied: cachetools<6.0,>=2.0.0 in /usr/local/lib/python3.11/dist-packages (from google-auth>=2.15.0->google-generativeai) (5.5.2)\n",
            "Requirement already satisfied: pyasn1-modules>=0.2.1 in /usr/local/lib/python3.11/dist-packages (from google-auth>=2.15.0->google-generativeai) (0.4.1)\n",
            "Requirement already satisfied: rsa<5,>=3.1.4 in /usr/local/lib/python3.11/dist-packages (from google-auth>=2.15.0->google-generativeai) (4.9)\n",
            "Requirement already satisfied: httplib2<1.dev0,>=0.19.0 in /usr/local/lib/python3.11/dist-packages (from google-api-python-client->google-generativeai) (0.22.0)\n",
            "Requirement already satisfied: google-auth-httplib2<1.0.0,>=0.2.0 in /usr/local/lib/python3.11/dist-packages (from google-api-python-client->google-generativeai) (0.2.0)\n",
            "Requirement already satisfied: uritemplate<5,>=3.0.1 in /usr/local/lib/python3.11/dist-packages (from google-api-python-client->google-generativeai) (4.1.1)\n",
            "Requirement already satisfied: annotated-types>=0.6.0 in /usr/local/lib/python3.11/dist-packages (from pydantic->google-generativeai) (0.7.0)\n",
            "Requirement already satisfied: pydantic-core==2.27.2 in /usr/local/lib/python3.11/dist-packages (from pydantic->google-generativeai) (2.27.2)\n",
            "Requirement already satisfied: grpcio<2.0dev,>=1.33.2 in /usr/local/lib/python3.11/dist-packages (from google-api-core[grpc]!=2.0.*,!=2.1.*,!=2.10.*,!=2.2.*,!=2.3.*,!=2.4.*,!=2.5.*,!=2.6.*,!=2.7.*,!=2.8.*,!=2.9.*,<3.0.0dev,>=1.34.1->google-ai-generativelanguage==0.6.15->google-generativeai) (1.71.0)\n",
            "Requirement already satisfied: grpcio-status<2.0.dev0,>=1.33.2 in /usr/local/lib/python3.11/dist-packages (from google-api-core[grpc]!=2.0.*,!=2.1.*,!=2.10.*,!=2.2.*,!=2.3.*,!=2.4.*,!=2.5.*,!=2.6.*,!=2.7.*,!=2.8.*,!=2.9.*,<3.0.0dev,>=1.34.1->google-ai-generativelanguage==0.6.15->google-generativeai) (1.62.3)\n",
            "Requirement already satisfied: pyparsing!=3.0.0,!=3.0.1,!=3.0.2,!=3.0.3,<4,>=2.4.2 in /usr/local/lib/python3.11/dist-packages (from httplib2<1.dev0,>=0.19.0->google-api-python-client->google-generativeai) (3.2.1)\n",
            "Requirement already satisfied: pyasn1<0.7.0,>=0.4.6 in /usr/local/lib/python3.11/dist-packages (from pyasn1-modules>=0.2.1->google-auth>=2.15.0->google-generativeai) (0.6.1)\n",
            "Requirement already satisfied: charset-normalizer<4,>=2 in /usr/local/lib/python3.11/dist-packages (from requests<3.0.0,>=2.18.0->google-api-core->google-generativeai) (3.4.1)\n",
            "Requirement already satisfied: idna<4,>=2.5 in /usr/local/lib/python3.11/dist-packages (from requests<3.0.0,>=2.18.0->google-api-core->google-generativeai) (3.10)\n",
            "Requirement already satisfied: urllib3<3,>=1.21.1 in /usr/local/lib/python3.11/dist-packages (from requests<3.0.0,>=2.18.0->google-api-core->google-generativeai) (2.3.0)\n",
            "Requirement already satisfied: certifi>=2017.4.17 in /usr/local/lib/python3.11/dist-packages (from requests<3.0.0,>=2.18.0->google-api-core->google-generativeai) (2025.1.31)\n"
          ]
        }
      ]
    },
    {
      "cell_type": "code",
      "source": [
        "response = model.generate_content(\"What is meaning of life?\")"
      ],
      "metadata": {
        "id": "bdtf0FgwtLP-"
      },
      "execution_count": null,
      "outputs": []
    },
    {
      "cell_type": "code",
      "source": [
        "response"
      ],
      "metadata": {
        "colab": {
          "base_uri": "https://localhost:8080/"
        },
        "id": "BHw3b4EwtLTB",
        "outputId": "9934e5af-56bd-4983-8e69-2f5083672d66"
      },
      "execution_count": null,
      "outputs": [
        {
          "output_type": "execute_result",
          "data": {
            "text/plain": [
              "response:\n",
              "GenerateContentResponse(\n",
              "    done=True,\n",
              "    iterator=None,\n",
              "    result=protos.GenerateContentResponse({\n",
              "      \"candidates\": [\n",
              "        {\n",
              "          \"content\": {\n",
              "            \"parts\": [\n",
              "              {\n",
              "                \"text\": \"The meaning of life is a question that has been pondered by philosophers, theologians, scientists, and individuals for centuries.  There isn't one definitive answer that satisfies everyone.  Ultimately, the meaning of life is often considered personal and subjective.\\n\\nHere are some perspectives:\\n\\n* **Nihilism:**  Life is inherently meaningless. There is no objective purpose or value.\\n* **Existentialism:**  Life has no inherent meaning, but individuals are free to create their own meaning and purpose through their choices and actions.\\n* **Absurdism:**  The search for meaning in a meaningless universe is inherently absurd, but we should embrace this absurdity and live life to the fullest anyway.\\n* **Hedonism:** The purpose of life is to maximize pleasure and minimize pain.\\n* **Utilitarianism:**  The purpose of life is to maximize happiness and well-being for the greatest number of people.\\n* **Stoicism:**  The purpose of life is to live in accordance with nature and virtue, accepting what we cannot control and focusing on what we can.\\n* **Purpose-driven life (often religious):**  Life's meaning is defined by a higher power or a divine plan, often involving serving that power or fulfilling a specific role.\\n* **Scientific/naturalistic:**  Life's meaning might be found in understanding the universe, contributing to scientific knowledge, or ensuring the survival and evolution of our species.\\n* **Humanistic:**  The meaning of life is found in human connection, growth, and contribution to society.\\n\\n**Instead of searching for a universal answer, many people find it more helpful to ask themselves these questions:**\\n\\n* What makes me feel alive and fulfilled?\\n* What impact do I want to have on the world?\\n* What are my values and how do I live by them?\\n* What relationships are most important to me?\\n* What gives my life purpose and direction?\\n\\nBy exploring these questions, individuals can create a sense of meaning and purpose that is unique to them.\\n\"\n",
              "              }\n",
              "            ],\n",
              "            \"role\": \"model\"\n",
              "          },\n",
              "          \"finish_reason\": \"STOP\",\n",
              "          \"avg_logprobs\": -0.1286616915748233\n",
              "        }\n",
              "      ],\n",
              "      \"usage_metadata\": {\n",
              "        \"prompt_token_count\": 6,\n",
              "        \"candidates_token_count\": 420,\n",
              "        \"total_token_count\": 426\n",
              "      },\n",
              "      \"model_version\": \"gemini-1.5-pro-002\"\n",
              "    }),\n",
              ")"
            ]
          },
          "metadata": {},
          "execution_count": 17
        }
      ]
    },
    {
      "cell_type": "code",
      "source": [
        "response.text"
      ],
      "metadata": {
        "colab": {
          "base_uri": "https://localhost:8080/",
          "height": 227
        },
        "id": "y2PxntTltLVs",
        "outputId": "5448ca2a-f1aa-474b-e88a-36f09ea764d4"
      },
      "execution_count": null,
      "outputs": [
        {
          "output_type": "execute_result",
          "data": {
            "text/plain": [
              "\"The meaning of life is a question that has been pondered by philosophers, theologians, scientists, and individuals for centuries.  There isn't one definitive answer that satisfies everyone.  Ultimately, the meaning of life is often considered personal and subjective.\\n\\nHere are some perspectives:\\n\\n* **Nihilism:**  Life is inherently meaningless. There is no objective purpose or value.\\n* **Existentialism:**  Life has no inherent meaning, but individuals are free to create their own meaning and purpose through their choices and actions.\\n* **Absurdism:**  The search for meaning in a meaningless universe is inherently absurd, but we should embrace this absurdity and live life to the fullest anyway.\\n* **Hedonism:** The purpose of life is to maximize pleasure and minimize pain.\\n* **Utilitarianism:**  The purpose of life is to maximize happiness and well-being for the greatest number of people.\\n* **Stoicism:**  The purpose of life is to live in accordance with nature and virtue, accepting what we cannot control and focusing on what we can.\\n* **Purpose-driven life (often religious):**  Life's meaning is defined by a higher power or a divine plan, often involving serving that power or fulfilling a specific role.\\n* **Scientific/naturalistic:**  Life's meaning might be found in understanding the universe, contributing to scientific knowledge, or ensuring the survival and evolution of our species.\\n* **Humanistic:**  The meaning of life is found in human connection, growth, and contribution to society.\\n\\n**Instead of searching for a universal answer, many people find it more helpful to ask themselves these questions:**\\n\\n* What makes me feel alive and fulfilled?\\n* What impact do I want to have on the world?\\n* What are my values and how do I live by them?\\n* What relationships are most important to me?\\n* What gives my life purpose and direction?\\n\\nBy exploring these questions, individuals can create a sense of meaning and purpose that is unique to them.\\n\""
            ],
            "application/vnd.google.colaboratory.intrinsic+json": {
              "type": "string"
            }
          },
          "metadata": {},
          "execution_count": 18
        }
      ]
    },
    {
      "cell_type": "code",
      "source": [
        "to_markdown(response.text)"
      ],
      "metadata": {
        "colab": {
          "base_uri": "https://localhost:8080/",
          "height": 596
        },
        "id": "yapgFfDttLYh",
        "outputId": "8a654bbb-6d11-4b8f-c04b-528e906a0926"
      },
      "execution_count": null,
      "outputs": [
        {
          "output_type": "execute_result",
          "data": {
            "text/plain": [
              "<IPython.core.display.Markdown object>"
            ],
            "text/markdown": ">The meaning of life is a question that has been pondered by philosophers, theologians, scientists, and individuals for centuries *  There isn't one definitive answer that satisfies everyone *  Ultimately, the meaning of life is often considered personal and subjective *\n>\n>Here are some perspectives:\n>\n>* **Nihilism:**  Life is inherently meaningless * There is no objective purpose or value *\n>* **Existentialism:**  Life has no inherent meaning, but individuals are free to create their own meaning and purpose through their choices and actions *\n>* **Absurdism:**  The search for meaning in a meaningless universe is inherently absurd, but we should embrace this absurdity and live life to the fullest anyway *\n>* **Hedonism:** The purpose of life is to maximize pleasure and minimize pain *\n>* **Utilitarianism:**  The purpose of life is to maximize happiness and well-being for the greatest number of people *\n>* **Stoicism:**  The purpose of life is to live in accordance with nature and virtue, accepting what we cannot control and focusing on what we can *\n>* **Purpose-driven life (often religious):**  Life's meaning is defined by a higher power or a divine plan, often involving serving that power or fulfilling a specific role *\n>* **Scientific/naturalistic:**  Life's meaning might be found in understanding the universe, contributing to scientific knowledge, or ensuring the survival and evolution of our species *\n>* **Humanistic:**  The meaning of life is found in human connection, growth, and contribution to society *\n>\n>**Instead of searching for a universal answer, many people find it more helpful to ask themselves these questions:**\n>\n>* What makes me feel alive and fulfilled?\n>* What impact do I want to have on the world?\n>* What are my values and how do I live by them?\n>* What relationships are most important to me?\n>* What gives my life purpose and direction?\n>\n>By exploring these questions, individuals can create a sense of meaning and purpose that is unique to them *\n"
          },
          "metadata": {},
          "execution_count": 21
        }
      ]
    },
    {
      "cell_type": "code",
      "source": [
        "response.prompt_feedback"
      ],
      "metadata": {
        "colab": {
          "base_uri": "https://localhost:8080/"
        },
        "id": "MO_xISwEtLbR",
        "outputId": "ae1460fd-42ef-4594-d50e-5adff29e7554"
      },
      "execution_count": null,
      "outputs": [
        {
          "output_type": "execute_result",
          "data": {
            "text/plain": []
          },
          "metadata": {},
          "execution_count": 22
        }
      ]
    },
    {
      "cell_type": "code",
      "source": [
        "%%time\n",
        "response= model.generate_content(\"What is meaning of life?\" , stream=True)"
      ],
      "metadata": {
        "colab": {
          "base_uri": "https://localhost:8080/",
          "height": 52
        },
        "id": "0ES3FzjwtLea",
        "outputId": "74ccf62f-9576-4f41-bc6e-4d031f5ba5c9"
      },
      "execution_count": null,
      "outputs": [
        {
          "output_type": "stream",
          "name": "stdout",
          "text": [
            "CPU times: user 46.5 ms, sys: 5.21 ms, total: 51.7 ms\n",
            "Wall time: 7.14 s\n"
          ]
        }
      ]
    },
    {
      "cell_type": "code",
      "source": [
        "for chunk in response:\n",
        "  print(chunk.text)\n",
        "  print(\"_\"*80)"
      ],
      "metadata": {
        "colab": {
          "base_uri": "https://localhost:8080/"
        },
        "id": "YpHzm9YltLgr",
        "outputId": "ab8345d3-dfbe-4b77-e723-a97313720d3c"
      },
      "execution_count": null,
      "outputs": [
        {
          "output_type": "stream",
          "name": "stdout",
          "text": [
            "The\n",
            "________________________________________________________________________________\n",
            " meaning of life\n",
            "________________________________________________________________________________\n",
            " is a question that has puzzled philosophers and individuals for centuries.  There's no\n",
            "________________________________________________________________________________\n",
            " single, universally accepted answer.  It's a deeply personal and often evolving\n",
            "________________________________________________________________________________\n",
            " concept.  Here are a few perspectives:\n",
            "\n",
            "* **Nihilism:**  This philosophy argues that life is inherently meaningless. There's no objective purpose or value\n",
            "________________________________________________________________________________\n",
            ".\n",
            "\n",
            "* **Existentialism:** This perspective emphasizes individual freedom and responsibility.  Meaning isn't inherent; it's something we create through our choices and actions.\n",
            "________________________________________________________________________________\n",
            "\n",
            "\n",
            "* **Absurdism:**  This view acknowledges the inherent conflict between our desire for meaning and the meaningless nature of the universe.  We must embrace this absurdity and create our own meaning in spite of it.\n",
            "\n",
            "* **Hed\n",
            "________________________________________________________________________________\n",
            "onism:**  This philosophy focuses on pleasure and happiness as the ultimate goals of life.  Meaning is found in maximizing enjoyment and minimizing suffering.\n",
            "\n",
            "* **Purpose-driven life:**  Many find meaning through a sense of purpose, often\n",
            "________________________________________________________________________________\n",
            " related to contributing to something larger than themselves, such as family, community, a cause, or their faith.\n",
            "\n",
            "* **Scientific perspective:**  Science doesn't offer a meaning of life in the philosophical sense. It focuses on understanding the natural world and how we function within it.  Evolutionary biology suggests survival and reproduction\n",
            "________________________________________________________________________________\n",
            " are key drivers, but doesn't dictate a specific meaning for individual lives.\n",
            "\n",
            "* **Spiritual and religious perspectives:** Many religions offer answers to the meaning of life, often involving a divine being, an afterlife, and a prescribed set of moral principles.\n",
            "\n",
            "Ultimately, the meaning of life is what you make it.  It'\n",
            "________________________________________________________________________________\n",
            "s a question you answer for yourself through your experiences, values, and choices.  It can be helpful to explore different philosophies, talk to others, and reflect on what brings you joy and fulfillment.\n",
            "\n",
            "________________________________________________________________________________\n"
          ]
        }
      ]
    },
    {
      "cell_type": "code",
      "source": [],
      "metadata": {
        "id": "xatFYpVEtLj3"
      },
      "execution_count": null,
      "outputs": []
    },
    {
      "cell_type": "markdown",
      "source": [
        "# **Generate text from image and text inputs**"
      ],
      "metadata": {
        "id": "5ER4nN5RyfT2"
      }
    },
    {
      "cell_type": "code",
      "source": [
        "!curl -o image.jpg https://upload.wikimedia.org/wikipedia/commons/thumb/4/4b/Food_platter.jpg/1280px-Food_platter.jpg\n"
      ],
      "metadata": {
        "colab": {
          "base_uri": "https://localhost:8080/"
        },
        "id": "BNMQnQBltLnc",
        "outputId": "6b91c183-fa98-4b5e-ef00-e1b749e2ca69"
      },
      "execution_count": null,
      "outputs": [
        {
          "output_type": "stream",
          "name": "stdout",
          "text": [
            "  % Total    % Received % Xferd  Average Speed   Time    Time     Time  Current\n",
            "                                 Dload  Upload   Total   Spent    Left  Speed\n",
            "100  2092  100  2092    0     0   4302      0 --:--:-- --:--:-- --:--:--  4304\n"
          ]
        }
      ]
    },
    {
      "cell_type": "code",
      "source": [],
      "metadata": {
        "id": "dHy4aWkC0I5D"
      },
      "execution_count": null,
      "outputs": []
    },
    {
      "cell_type": "code",
      "source": [],
      "metadata": {
        "id": "ElNBKfFC0JEq"
      },
      "execution_count": null,
      "outputs": []
    },
    {
      "cell_type": "code",
      "source": [],
      "metadata": {
        "id": "tT5fpdAD0JIN"
      },
      "execution_count": null,
      "outputs": []
    },
    {
      "cell_type": "code",
      "source": [
        "import PIL.Image\n",
        "\n",
        "img= PIL.Image.open('image.jpg')\n",
        "img"
      ],
      "metadata": {
        "colab": {
          "base_uri": "https://localhost:8080/",
          "height": 315
        },
        "id": "ViX0kF_moMR8",
        "outputId": "65a0e2fa-9508-40f4-acaa-83070ed5b9b6"
      },
      "execution_count": null,
      "outputs": [
        {
          "output_type": "error",
          "ename": "UnidentifiedImageError",
          "evalue": "cannot identify image file 'image.jpg'",
          "traceback": [
            "\u001b[0;31m---------------------------------------------------------------------------\u001b[0m",
            "\u001b[0;31mUnidentifiedImageError\u001b[0m                    Traceback (most recent call last)",
            "\u001b[0;32m<ipython-input-56-407436d443bd>\u001b[0m in \u001b[0;36m<cell line: 0>\u001b[0;34m()\u001b[0m\n\u001b[1;32m      1\u001b[0m \u001b[0;32mimport\u001b[0m \u001b[0mPIL\u001b[0m\u001b[0;34m.\u001b[0m\u001b[0mImage\u001b[0m\u001b[0;34m\u001b[0m\u001b[0;34m\u001b[0m\u001b[0m\n\u001b[1;32m      2\u001b[0m \u001b[0;34m\u001b[0m\u001b[0m\n\u001b[0;32m----> 3\u001b[0;31m \u001b[0mimg\u001b[0m\u001b[0;34m=\u001b[0m \u001b[0mPIL\u001b[0m\u001b[0;34m.\u001b[0m\u001b[0mImage\u001b[0m\u001b[0;34m.\u001b[0m\u001b[0mopen\u001b[0m\u001b[0;34m(\u001b[0m\u001b[0;34m'image.jpg'\u001b[0m\u001b[0;34m)\u001b[0m\u001b[0;34m\u001b[0m\u001b[0;34m\u001b[0m\u001b[0m\n\u001b[0m\u001b[1;32m      4\u001b[0m \u001b[0mimg\u001b[0m\u001b[0;34m\u001b[0m\u001b[0;34m\u001b[0m\u001b[0m\n",
            "\u001b[0;32m/usr/local/lib/python3.11/dist-packages/PIL/Image.py\u001b[0m in \u001b[0;36mopen\u001b[0;34m(fp, mode, formats)\u001b[0m\n\u001b[1;32m   3530\u001b[0m         \u001b[0mwarnings\u001b[0m\u001b[0;34m.\u001b[0m\u001b[0mwarn\u001b[0m\u001b[0;34m(\u001b[0m\u001b[0mmessage\u001b[0m\u001b[0;34m)\u001b[0m\u001b[0;34m\u001b[0m\u001b[0;34m\u001b[0m\u001b[0m\n\u001b[1;32m   3531\u001b[0m     \u001b[0mmsg\u001b[0m \u001b[0;34m=\u001b[0m \u001b[0;34m\"cannot identify image file %r\"\u001b[0m \u001b[0;34m%\u001b[0m \u001b[0;34m(\u001b[0m\u001b[0mfilename\u001b[0m \u001b[0;32mif\u001b[0m \u001b[0mfilename\u001b[0m \u001b[0;32melse\u001b[0m \u001b[0mfp\u001b[0m\u001b[0;34m)\u001b[0m\u001b[0;34m\u001b[0m\u001b[0;34m\u001b[0m\u001b[0m\n\u001b[0;32m-> 3532\u001b[0;31m     \u001b[0;32mraise\u001b[0m \u001b[0mUnidentifiedImageError\u001b[0m\u001b[0;34m(\u001b[0m\u001b[0mmsg\u001b[0m\u001b[0;34m)\u001b[0m\u001b[0;34m\u001b[0m\u001b[0;34m\u001b[0m\u001b[0m\n\u001b[0m\u001b[1;32m   3533\u001b[0m \u001b[0;34m\u001b[0m\u001b[0m\n\u001b[1;32m   3534\u001b[0m \u001b[0;34m\u001b[0m\u001b[0m\n",
            "\u001b[0;31mUnidentifiedImageError\u001b[0m: cannot identify image file 'image.jpg'"
          ]
        }
      ]
    },
    {
      "cell_type": "code",
      "source": [
        "model= genai.GenerativeModel('gemini-pro-vision')"
      ],
      "metadata": {
        "id": "t-2tFxhOoMUR"
      },
      "execution_count": null,
      "outputs": []
    },
    {
      "cell_type": "code",
      "source": [
        "response = model.generate_content(img)\n",
        "\n",
        "to_markdown(response.text)"
      ],
      "metadata": {
        "colab": {
          "base_uri": "https://localhost:8080/",
          "height": 176
        },
        "id": "E9-fz8hKoMXA",
        "outputId": "b84d5ad5-b528-4a3a-e641-b117ccaa1e7e"
      },
      "execution_count": null,
      "outputs": [
        {
          "output_type": "error",
          "ename": "NameError",
          "evalue": "name 'img' is not defined",
          "traceback": [
            "\u001b[0;31m---------------------------------------------------------------------------\u001b[0m",
            "\u001b[0;31mNameError\u001b[0m                                 Traceback (most recent call last)",
            "\u001b[0;32m<ipython-input-48-d83cd03fccdf>\u001b[0m in \u001b[0;36m<cell line: 0>\u001b[0;34m()\u001b[0m\n\u001b[0;32m----> 1\u001b[0;31m \u001b[0mresponse\u001b[0m \u001b[0;34m=\u001b[0m \u001b[0mmodel\u001b[0m\u001b[0;34m.\u001b[0m\u001b[0mgenerate_content\u001b[0m\u001b[0;34m(\u001b[0m\u001b[0mimg\u001b[0m\u001b[0;34m)\u001b[0m\u001b[0;34m\u001b[0m\u001b[0;34m\u001b[0m\u001b[0m\n\u001b[0m\u001b[1;32m      2\u001b[0m \u001b[0;34m\u001b[0m\u001b[0m\n\u001b[1;32m      3\u001b[0m \u001b[0mto_markdown\u001b[0m\u001b[0;34m(\u001b[0m\u001b[0mresponse\u001b[0m\u001b[0;34m.\u001b[0m\u001b[0mtext\u001b[0m\u001b[0;34m)\u001b[0m\u001b[0;34m\u001b[0m\u001b[0;34m\u001b[0m\u001b[0m\n",
            "\u001b[0;31mNameError\u001b[0m: name 'img' is not defined"
          ]
        }
      ]
    },
    {
      "cell_type": "code",
      "source": [
        "response = model.generate_content([\"Write a short, engaging blog post based on this picture. It should include description of the meal in photo and talk about my journey meal prepping.\", img], stream=True)"
      ],
      "metadata": {
        "colab": {
          "base_uri": "https://localhost:8080/",
          "height": 176
        },
        "id": "WsYp37oxoMac",
        "outputId": "794f14e5-7d69-4719-da70-d975b1276643"
      },
      "execution_count": null,
      "outputs": [
        {
          "output_type": "error",
          "ename": "NameError",
          "evalue": "name 'img' is not defined",
          "traceback": [
            "\u001b[0;31m---------------------------------------------------------------------------\u001b[0m",
            "\u001b[0;31mNameError\u001b[0m                                 Traceback (most recent call last)",
            "\u001b[0;32m<ipython-input-50-0b474b378ed6>\u001b[0m in \u001b[0;36m<cell line: 0>\u001b[0;34m()\u001b[0m\n\u001b[0;32m----> 1\u001b[0;31m \u001b[0mresponse\u001b[0m \u001b[0;34m=\u001b[0m \u001b[0mmodel\u001b[0m\u001b[0;34m.\u001b[0m\u001b[0mgenerate_content\u001b[0m\u001b[0;34m(\u001b[0m\u001b[0;34m[\u001b[0m\u001b[0;34m\"Write a short, engaging blog post based on this picture. It should include description of the meal in photo and talk about my journey meal prepping.\"\u001b[0m\u001b[0;34m,\u001b[0m \u001b[0mimg\u001b[0m\u001b[0;34m]\u001b[0m\u001b[0;34m,\u001b[0m \u001b[0mstream\u001b[0m\u001b[0;34m=\u001b[0m\u001b[0;32mTrue\u001b[0m\u001b[0;34m)\u001b[0m\u001b[0;34m\u001b[0m\u001b[0;34m\u001b[0m\u001b[0m\n\u001b[0m",
            "\u001b[0;31mNameError\u001b[0m: name 'img' is not defined"
          ]
        }
      ]
    },
    {
      "cell_type": "code",
      "source": [
        "to_markdown(response.text)"
      ],
      "metadata": {
        "colab": {
          "base_uri": "https://localhost:8080/",
          "height": 509
        },
        "id": "1mdE_g5m8eD3",
        "outputId": "445fd198-a04e-4010-cbcf-94e3a98b0332"
      },
      "execution_count": null,
      "outputs": [
        {
          "output_type": "execute_result",
          "data": {
            "text/plain": [
              "<IPython.core.display.Markdown object>"
            ],
            "text/markdown": ">The meaning of life is a question that has puzzled philosophers and individuals for centuries *  There's no single, universally accepted answer *  It's a deeply personal and often evolving concept *  Here are a few perspectives:\n>\n>* **Nihilism:**  This philosophy argues that life is inherently meaningless * There's no objective purpose or value *\n>\n>* **Existentialism:** This perspective emphasizes individual freedom and responsibility *  Meaning isn't inherent; it's something we create through our choices and actions *\n>\n>* **Absurdism:**  This view acknowledges the inherent conflict between our desire for meaning and the meaningless nature of the universe *  We must embrace this absurdity and create our own meaning in spite of it *\n>\n>* **Hedonism:**  This philosophy focuses on pleasure and happiness as the ultimate goals of life *  Meaning is found in maximizing enjoyment and minimizing suffering *\n>\n>* **Purpose-driven life:**  Many find meaning through a sense of purpose, often related to contributing to something larger than themselves, such as family, community, a cause, or their faith *\n>\n>* **Scientific perspective:**  Science doesn't offer a meaning of life in the philosophical sense * It focuses on understanding the natural world and how we function within it *  Evolutionary biology suggests survival and reproduction are key drivers, but doesn't dictate a specific meaning for individual lives *\n>\n>* **Spiritual and religious perspectives:** Many religions offer answers to the meaning of life, often involving a divine being, an afterlife, and a prescribed set of moral principles *\n>\n>Ultimately, the meaning of life is what you make it *  It's a question you answer for yourself through your experiences, values, and choices *  It can be helpful to explore different philosophies, talk to others, and reflect on what brings you joy and fulfillment *\n"
          },
          "metadata": {},
          "execution_count": 52
        }
      ]
    },
    {
      "cell_type": "code",
      "source": [],
      "metadata": {
        "id": "Sn8Carvy8eHb"
      },
      "execution_count": null,
      "outputs": []
    }
  ]
}